{
 "cells": [
  {
   "cell_type": "code",
   "execution_count": 9,
   "id": "0d7ffd7e",
   "metadata": {},
   "outputs": [],
   "source": [
    "import pandas as pd\n",
    "import nltk\n",
    "from nltk.corpus import stopwords\n",
    "from nltk.tokenize import word_tokenize\n",
    "import string"
   ]
  },
  {
   "cell_type": "code",
   "execution_count": 10,
   "id": "11d0f809",
   "metadata": {},
   "outputs": [],
   "source": [
    "import pandas as pd\n",
    "df = pd.read_csv('reviews_dataset.csv')"
   ]
  },
  {
   "cell_type": "code",
   "execution_count": 11,
   "id": "8708daad",
   "metadata": {},
   "outputs": [],
   "source": [
    "# Text Preprocessing\n",
    "def remove_punctuation(text):\n",
    "    return text.translate(str.maketrans('', '', string.punctuation))\n",
    "\n",
    "df['ReviewContent'] = df['ReviewContent'].apply(remove_punctuation)"
   ]
  },
  {
   "cell_type": "code",
   "execution_count": 12,
   "id": "c40c03f3",
   "metadata": {},
   "outputs": [
    {
     "name": "stderr",
     "output_type": "stream",
     "text": [
      "[nltk_data] Downloading package punkt to\n",
      "[nltk_data]     C:\\Users\\arjun\\AppData\\Roaming\\nltk_data...\n",
      "[nltk_data]   Package punkt is already up-to-date!\n",
      "[nltk_data] Downloading package stopwords to\n",
      "[nltk_data]     C:\\Users\\arjun\\AppData\\Roaming\\nltk_data...\n",
      "[nltk_data]   Package stopwords is already up-to-date!\n",
      "[nltk_data] Downloading package wordnet to\n",
      "[nltk_data]     C:\\Users\\arjun\\AppData\\Roaming\\nltk_data...\n",
      "[nltk_data]   Package wordnet is already up-to-date!\n"
     ]
    }
   ],
   "source": [
    "# Text Preprocessing\n",
    "def remove_punctuation(text):\n",
    "    return text.translate(str.maketrans('', '', string.punctuation))\n",
    "\n",
    "df['ReviewContent'] = df['ReviewContent'].apply(remove_punctuation)\n",
    "\n",
    "nltk.download('punkt')\n",
    "nltk.download('stopwords')\n",
    "\n",
    "stop_words = set(stopwords.words('english'))\n",
    "\n",
    "def remove_stopwords(text):\n",
    "    tokens = word_tokenize(text)\n",
    "    filtered_tokens = [word for word in tokens if word.lower() not in stop_words]\n",
    "    return ' '.join(filtered_tokens)\n",
    "\n",
    "df['ReviewContent'] = df['ReviewContent'].apply(remove_stopwords)\n",
    "\n",
    "from nltk.stem import WordNetLemmatizer\n",
    "\n",
    "nltk.download('wordnet')\n",
    "lemmatizer = WordNetLemmatizer()\n",
    "\n",
    "def lemmatize_text(text):\n",
    "    tokens = word_tokenize(text)\n",
    "    lemmatized_tokens = [lemmatizer.lemmatize(word) for word in tokens]\n",
    "    return ' '.join(lemmatized_tokens)\n",
    "\n",
    "df['ReviewContent'] = df['ReviewContent'].apply(lemmatize_text)"
   ]
  },
  {
   "cell_type": "code",
   "execution_count": 13,
   "id": "fde41d08",
   "metadata": {},
   "outputs": [],
   "source": [
    "# Encode categorical variables\n",
    "from sklearn.preprocessing import LabelEncoder\n",
    "label_encoder = LabelEncoder()\n",
    "df['Sentiment_encoded'] = label_encoder.fit_transform(df['Sentiment'])"
   ]
  },
  {
   "cell_type": "code",
   "execution_count": 14,
   "id": "1fac1202",
   "metadata": {
    "scrolled": false
   },
   "outputs": [
    {
     "name": "stdout",
     "output_type": "stream",
     "text": [
      "Cross-Validation Accuracy Scores: [0.71551724 0.71551724 0.71982759 0.72413793 0.72413793 0.73275862\n",
      " 0.72844828 0.72294372 0.74458874 0.71861472]\n",
      "Mean Cross-Validation Accuracy: 0.7246492013733393\n",
      "Accuracy (Random Forest): 0.73\n",
      "Classification Report (Random Forest):\n",
      "              precision    recall  f1-score   support\n",
      "\n",
      "           0       0.38      0.05      0.09       125\n",
      "           1       0.00      0.00      0.00        53\n",
      "           2       0.68      0.31      0.42       117\n",
      "           3       0.74      0.97      0.84       698\n",
      "\n",
      "    accuracy                           0.73       993\n",
      "   macro avg       0.45      0.33      0.34       993\n",
      "weighted avg       0.65      0.73      0.65       993\n",
      "\n"
     ]
    }
   ],
   "source": [
    "from sklearn.model_selection import train_test_split, StratifiedKFold, cross_val_score\n",
    "from sklearn.ensemble import RandomForestClassifier\n",
    "from sklearn.feature_extraction.text import TfidfVectorizer\n",
    "from sklearn.metrics import classification_report, accuracy_score\n",
    "from sklearn.utils.class_weight import compute_class_weight\n",
    "from sklearn.utils import shuffle\n",
    "import pickle\n",
    "import numpy as np\n",
    "\n",
    "# Assuming the data is preprocessed and loaded into the DataFrame df\n",
    "\n",
    "# Shuffle the dataset\n",
    "df = shuffle(df, random_state=42)\n",
    "\n",
    "# Define features and target variable\n",
    "X = df['ReviewContent']\n",
    "y = df['Sentiment_encoded']\n",
    "\n",
    "# Stratified split into training and testing sets\n",
    "X_train, X_test, y_train, y_test = train_test_split(X, y, test_size=0.3, random_state=42, stratify=y)\n",
    "\n",
    "# TF-IDF Vectorization\n",
    "tfidf = TfidfVectorizer(max_features=5000)\n",
    "X_train_tfidf = tfidf.fit_transform(X_train)\n",
    "X_test_tfidf = tfidf.transform(X_test)\n",
    "\n",
    "# Compute class weights\n",
    "class_weights = compute_class_weight(class_weight='balanced', classes=np.unique(y_train), y=y_train)\n",
    "class_weights_dict = {i: class_weights[i] for i in range(len(class_weights))}\n",
    "\n",
    "# Best parameters obtained from GridSearchCV (including class_weight)\n",
    "best_params_rf = {\n",
    "    'bootstrap': True,\n",
    "    'class_weight': class_weights_dict,\n",
    "    'max_depth': 40,\n",
    "    'max_features': 'log2',\n",
    "    'min_samples_leaf': 1,\n",
    "    'min_samples_split': 5,\n",
    "    'n_estimators': 500\n",
    "}\n",
    "\n",
    "# Instantiate the RandomForestClassifier with the best parameters\n",
    "best_rf = RandomForestClassifier(\n",
    "    bootstrap=best_params_rf['bootstrap'],\n",
    "    class_weight=best_params_rf['class_weight'],\n",
    "    max_depth=best_params_rf['max_depth'],\n",
    "    max_features=best_params_rf['max_features'],\n",
    "    min_samples_leaf=best_params_rf['min_samples_leaf'],\n",
    "    min_samples_split=best_params_rf['min_samples_split'],\n",
    "    n_estimators=best_params_rf['n_estimators'],\n",
    "    random_state=42\n",
    ")\n",
    "\n",
    "# Stratified K-Fold Cross Validation\n",
    "skf = StratifiedKFold(n_splits=10, shuffle=True, random_state=42)\n",
    "\n",
    "# Perform cross-validation\n",
    "cross_val_scores = cross_val_score(best_rf, X_train_tfidf, y_train, cv=skf, scoring='accuracy')\n",
    "\n",
    "print(f\"Cross-Validation Accuracy Scores: {cross_val_scores}\")\n",
    "print(f\"Mean Cross-Validation Accuracy: {cross_val_scores.mean()}\")\n",
    "\n",
    "# Fit the classifier to the training data\n",
    "best_rf.fit(X_train_tfidf, y_train)\n",
    "\n",
    "# Predict on test data\n",
    "y_pred_rf = best_rf.predict(X_test_tfidf)\n",
    "\n",
    "# Evaluate model performance\n",
    "accuracy_rf = accuracy_score(y_test, y_pred_rf)\n",
    "print(f\"Accuracy (Random Forest): {accuracy_rf:.2f}\")\n",
    "\n",
    "print(\"Classification Report (Random Forest):\")\n",
    "print(classification_report(y_test, y_pred_rf))\n"
   ]
  },
  {
   "cell_type": "code",
   "execution_count": 5,
   "id": "5c6ed73c",
   "metadata": {},
   "outputs": [
    {
     "name": "stdout",
     "output_type": "stream",
     "text": [
      "Number of missing values in 'ReviewContent' column: 3\n"
     ]
    }
   ],
   "source": [
    "# Number of missing values in 'ReviewContent' column\n",
    "num_missing_values = df['ReviewContent'].isna().sum()\n",
    "print(f\"Number of missing values in 'ReviewContent' column: {num_missing_values}\")\n"
   ]
  },
  {
   "cell_type": "code",
   "execution_count": null,
   "id": "305de554",
   "metadata": {},
   "outputs": [],
   "source": []
  }
 ],
 "metadata": {
  "kernelspec": {
   "display_name": "Python 3 (ipykernel)",
   "language": "python",
   "name": "python3"
  },
  "language_info": {
   "codemirror_mode": {
    "name": "ipython",
    "version": 3
   },
   "file_extension": ".py",
   "mimetype": "text/x-python",
   "name": "python",
   "nbconvert_exporter": "python",
   "pygments_lexer": "ipython3",
   "version": "3.11.5"
  }
 },
 "nbformat": 4,
 "nbformat_minor": 5
}
