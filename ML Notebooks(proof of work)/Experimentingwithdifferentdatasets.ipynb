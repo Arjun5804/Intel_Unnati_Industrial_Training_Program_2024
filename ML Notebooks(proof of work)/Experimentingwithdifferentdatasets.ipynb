{
 "cells": [
  {
   "cell_type": "code",
   "execution_count": 1,
   "id": "36673b4f",
   "metadata": {},
   "outputs": [],
   "source": [
    "import pandas as pd"
   ]
  },
  {
   "cell_type": "code",
   "execution_count": 2,
   "id": "d86ab608",
   "metadata": {},
   "outputs": [
    {
     "name": "stdout",
     "output_type": "stream",
     "text": [
      "Sentiment\n",
      "positive                 2341\n",
      "negative                  384\n",
      "competition sentiment     290\n",
      "future expectation        128\n",
      "Name: count, dtype: int64\n"
     ]
    }
   ],
   "source": [
    "df = pd.read_csv('Human_data.csv')\n",
    "sentiment_counts = df['Sentiment'].value_counts()\n",
    "print(sentiment_counts)"
   ]
  },
  {
   "cell_type": "code",
   "execution_count": 3,
   "id": "129e001b",
   "metadata": {
    "scrolled": true
   },
   "outputs": [
    {
     "name": "stdout",
     "output_type": "stream",
     "text": [
      "Sentiment\n",
      "positive                 2227\n",
      "competition sentiment     392\n",
      "negative                  358\n",
      "future expectation        166\n",
      "Name: count, dtype: int64\n"
     ]
    }
   ],
   "source": [
    "df = pd.read_csv('GPT_data.csv')\n",
    "sentiment_counts = df['Sentiment'].value_counts()\n",
    "print(sentiment_counts)"
   ]
  },
  {
   "cell_type": "code",
   "execution_count": 4,
   "id": "d408e796",
   "metadata": {},
   "outputs": [
    {
     "data": {
      "text/plain": [
       "Index([   1,    7,   11,   20,   22,   25,   27,   28,   43,   51,\n",
       "       ...\n",
       "       3111, 3113, 3116, 3119, 3121, 3122, 3124, 3125, 3129, 3132],\n",
       "      dtype='int64', length=290)"
      ]
     },
     "execution_count": 4,
     "metadata": {},
     "output_type": "execute_result"
    }
   ],
   "source": [
    "df = pd.read_csv('Human_data.csv')\n",
    "c_indices = df[df['Sentiment'] == 'competition sentiment'].index\n",
    "c_indices"
   ]
  },
  {
   "cell_type": "code",
   "execution_count": 5,
   "id": "3e2ff302",
   "metadata": {},
   "outputs": [
    {
     "data": {
      "text/plain": [
       "Index([   0,    1,    7,   11,   14,   20,   22,   25,   27,   28,\n",
       "       ...\n",
       "       3123, 3124, 3125, 3128, 3129, 3132, 3133, 3134, 3137, 3138],\n",
       "      dtype='int64', length=392)"
      ]
     },
     "execution_count": 5,
     "metadata": {},
     "output_type": "execute_result"
    }
   ],
   "source": [
    "df = pd.read_csv('GPT_data.csv')\n",
    "c_indices = df[df['Sentiment'] == 'competition sentiment'].index\n",
    "c_indices"
   ]
  },
  {
   "cell_type": "code",
   "execution_count": 6,
   "id": "69051065",
   "metadata": {},
   "outputs": [
    {
     "name": "stdout",
     "output_type": "stream",
     "text": [
      "                                        ProductTitle  \\\n",
      "0  Intel Core i3 12100F 12th Gen Generation Deskt...   \n",
      "1  Intel Core i3 12100F 12th Gen Generation Deskt...   \n",
      "2  Intel Core i3 12100F 12th Gen Generation Deskt...   \n",
      "3  Intel Core i3 12100F 12th Gen Generation Deskt...   \n",
      "4  Intel Core i3 12100F 12th Gen Generation Deskt...   \n",
      "\n",
      "                                         ReviewTitle  \\\n",
      "0  This is the best you'll get in this price rang...   \n",
      "1                                            Awesome   \n",
      "2      Best in price when even compared to i5 10400f   \n",
      "3                                               Good   \n",
      "4                   Used or Unboxed product received   \n",
      "\n",
      "                                       ReviewContent       Date  Rating  \\\n",
      "0  If you would be building pc just for gaming an...  25-Jun-23       5   \n",
      "1  This is one of the best cpu in budget if you o...  16-Nov-22       5   \n",
      "2  Got this on sale for 7.26k.. Really enjoyed wi...  15-Aug-22       5   \n",
      "3                                Performance is good  11-Nov-23       4   \n",
      "4  Product is good but by looking at packaging an...  24-Aug-23       3   \n",
      "\n",
      "             Author Country              Sentiment  \n",
      "0        Padi Takhu   India  competition sentiment  \n",
      "1           shubham   India  competition sentiment  \n",
      "2      Debasis Dhar   India               positive  \n",
      "3  Lakhan Lal Uraon   India               positive  \n",
      "4            Ruchit   India               positive  \n"
     ]
    }
   ],
   "source": [
    "import pandas as pd\n",
    "\n",
    "# Load the datasets\n",
    "gpt_df = pd.read_csv('GPT_data.csv')\n",
    "human_df = pd.read_csv('Human_data.csv')\n",
    "\n",
    "# Ensure the sentiment columns are strings\n",
    "gpt_df['Sentiment'] = gpt_df['Sentiment'].astype(str)\n",
    "human_df['Sentiment'] = human_df['Sentiment'].astype(str)\n",
    "\n",
    "# Define the sentiments to look for\n",
    "sentiments_to_update = ['competition sentiment', 'future expectation']\n",
    "\n",
    "# Identify the indices where human-labeled data has the desired sentiments but GPT-labeled data does not\n",
    "for sentiment in sentiments_to_update:\n",
    "    indices_to_update = human_df[(human_df['Sentiment'] == sentiment) & (gpt_df['Sentiment'] != sentiment)].index\n",
    "    gpt_df.loc[indices_to_update, 'Sentiment'] = sentiment\n",
    "\n",
    "# Save the updated GPT-labeled dataset\n",
    "gpt_df.to_csv('updated_gpt_labelled_data.csv', index=False)\n",
    "\n",
    "# Display the first few rows of the updated dataset\n",
    "print(gpt_df.head())\n"
   ]
  },
  {
   "cell_type": "code",
   "execution_count": 7,
   "id": "eca49f87",
   "metadata": {},
   "outputs": [
    {
     "name": "stdout",
     "output_type": "stream",
     "text": [
      "Sentiment\n",
      "positive                 2223\n",
      "competition sentiment     392\n",
      "negative                  356\n",
      "future expectation        172\n",
      "Name: count, dtype: int64\n"
     ]
    }
   ],
   "source": [
    "df = pd.read_csv('Updated_data.csv')\n",
    "sentiment_counts = df['Sentiment'].value_counts()\n",
    "print(sentiment_counts)"
   ]
  },
  {
   "cell_type": "code",
   "execution_count": 8,
   "id": "e44d7401",
   "metadata": {},
   "outputs": [
    {
     "data": {
      "image/png": "[encoded data removed]",
      "text/plain": [
       "<Figure size 1000x600 with 1 Axes>"
      ]
     },
     "metadata": {},
     "output_type": "display_data"
    }
   ],
   "source": [
    "import pandas as pd\n",
    "import matplotlib.pyplot as plt\n",
    "import seaborn as sns\n",
    "\n",
    "# Load the consolidated dataset\n",
    "df = pd.read_csv('Updated_data.csv')\n",
    "\n",
    "\n",
    "country_counts = df['Country'].value_counts()\n",
    "\n",
    "# Create the bar plot\n",
    "plt.figure(figsize=(10, 6))\n",
    "sns.barplot(x=country_counts.index, y=country_counts.values, palette='viridis')\n",
    "plt.title('Country Counts')\n",
    "plt.xlabel('Country')\n",
    "plt.ylabel('Count')\n",
    "plt.xticks(rotation=45)\n",
    "plt.show()\n"
   ]
  },
  {
   "cell_type": "code",
   "execution_count": 9,
   "id": "7fd650c8",
   "metadata": {},
   "outputs": [
    {
     "data": {
      "text/plain": [
       "ProductTitle      0\n",
       "ReviewTitle       6\n",
       "ReviewContent    14\n",
       "Date              0\n",
       "Rating            0\n",
       "Author            0\n",
       "Country           0\n",
       "Sentiment         0\n",
       "dtype: int64"
      ]
     },
     "execution_count": 9,
     "metadata": {},
     "output_type": "execute_result"
    }
   ],
   "source": [
    "df.isnull().sum()"
   ]
  },
  {
   "cell_type": "code",
   "execution_count": 10,
   "id": "60157d57",
   "metadata": {},
   "outputs": [
    {
     "data": {
      "text/plain": [
       "Index([], dtype='int64')"
      ]
     },
     "execution_count": 10,
     "metadata": {},
     "output_type": "execute_result"
    }
   ],
   "source": [
    "e = df[df['ReviewTitle'] == ''].index\n",
    "e"
   ]
  },
  {
   "cell_type": "code",
   "execution_count": 12,
   "id": "f282cf6a",
   "metadata": {},
   "outputs": [
    {
     "ename": "NameError",
     "evalue": "name 'np' is not defined",
     "output_type": "error",
     "traceback": [
      "\u001b[1;31m---------------------------------------------------------------------------\u001b[0m",
      "\u001b[1;31mNameError\u001b[0m                                 Traceback (most recent call last)",
      "Cell \u001b[1;32mIn[12], line 4\u001b[0m\n\u001b[0;32m      1\u001b[0m null_review_content \u001b[38;5;241m=\u001b[39m df[\u001b[38;5;124m'\u001b[39m\u001b[38;5;124mReviewContent\u001b[39m\u001b[38;5;124m'\u001b[39m]\u001b[38;5;241m.\u001b[39misnull()\n\u001b[0;32m      3\u001b[0m \u001b[38;5;66;03m# Step 2: Get indices of rows with null values in 'ReviewContent' column\u001b[39;00m\n\u001b[1;32m----> 4\u001b[0m null_review_content_indices \u001b[38;5;241m=\u001b[39m np\u001b[38;5;241m.\u001b[39mwhere(null_review_content)[\u001b[38;5;241m0\u001b[39m]\n\u001b[0;32m      6\u001b[0m \u001b[38;5;66;03m# Print the indices\u001b[39;00m\n\u001b[0;32m      7\u001b[0m \u001b[38;5;28mprint\u001b[39m(\u001b[38;5;124m\"\u001b[39m\u001b[38;5;124mIndices of rows with null values in \u001b[39m\u001b[38;5;124m'\u001b[39m\u001b[38;5;124mReviewContent\u001b[39m\u001b[38;5;124m'\u001b[39m\u001b[38;5;124m column:\u001b[39m\u001b[38;5;124m\"\u001b[39m, null_review_content_indices)\n",
      "\u001b[1;31mNameError\u001b[0m: name 'np' is not defined"
     ]
    }
   ],
   "source": [
    "null_review_content = df['ReviewContent'].isnull()\n",
    "\n",
    "# Step 2: Get indices of rows with null values in 'ReviewContent' column\n",
    "null_review_content_indices = np.where(null_review_content)[0]\n",
    "\n",
    "# Print the indices\n",
    "print(\"Indices of rows with null values in 'ReviewContent' column:\", null_review_content_indices)"
   ]
  },
  {
   "cell_type": "code",
   "execution_count": 13,
   "id": "eff271a7",
   "metadata": {},
   "outputs": [],
   "source": [
    "import numpy as np"
   ]
  },
  {
   "cell_type": "code",
   "execution_count": 14,
   "id": "486bc869",
   "metadata": {},
   "outputs": [
    {
     "name": "stdout",
     "output_type": "stream",
     "text": [
      "Indices of rows with null values in 'ReviewContent' column: [ 315  353  691  706 1082 1224 1412 1534 1839 1888 2476 2529 2761 3064]\n"
     ]
    }
   ],
   "source": [
    "null_review_content = df['ReviewContent'].isnull()\n",
    "\n",
    "# Step 2: Get indices of rows with null values in 'ReviewContent' column\n",
    "null_review_content_indices = np.where(null_review_content)[0]\n",
    "\n",
    "# Print the indices\n",
    "print(\"Indices of rows with null values in 'ReviewContent' column:\", null_review_content_indices)"
   ]
  },
  {
   "cell_type": "code",
   "execution_count": 16,
   "id": "a791bf29",
   "metadata": {},
   "outputs": [
    {
     "name": "stdout",
     "output_type": "stream",
     "text": [
      "Indices of rows with null values in 'ReviewContent' column: [ 440  653  752  959 2118 2529]\n"
     ]
    }
   ],
   "source": [
    "null_review_title = df['ReviewTitle'].isnull()\n",
    "\n",
    "# Step 2: Get indices of rows with null values in 'ReviewContent' column\n",
    "null_review_title_indices = np.where(null_review_title)[0]\n",
    "\n",
    "# Print the indices\n",
    "print(\"Indices of rows with null values in 'ReviewContent' column:\", null_review_title_indices)"
   ]
  },
  {
   "cell_type": "code",
   "execution_count": 17,
   "id": "f492c279",
   "metadata": {},
   "outputs": [
    {
     "data": {
      "text/plain": [
       "ProductTitle     0\n",
       "ReviewTitle      0\n",
       "ReviewContent    0\n",
       "Date             0\n",
       "Rating           0\n",
       "Author           0\n",
       "Country          0\n",
       "Sentiment        0\n",
       "dtype: int64"
      ]
     },
     "execution_count": 17,
     "metadata": {},
     "output_type": "execute_result"
    }
   ],
   "source": [
    "df = df = pd.read_csv('Updated_data.csv')\n",
    "df.isnull().sum()\n"
   ]
  },
  {
   "cell_type": "code",
   "execution_count": 18,
   "id": "b84ea6db",
   "metadata": {},
   "outputs": [
    {
     "name": "stdout",
     "output_type": "stream",
     "text": [
      "Sentiment\n",
      "positive                 2201\n",
      "competition sentiment     394\n",
      "negative                  376\n",
      "future expectation        172\n",
      "Name: count, dtype: int64\n"
     ]
    }
   ],
   "source": [
    "df = pd.read_csv('Updated_data.csv')\n",
    "sentiment_counts = df['Sentiment'].value_counts()\n",
    "print(sentiment_counts)"
   ]
  },
  {
   "cell_type": "code",
   "execution_count": 1,
   "id": "71d5e43d",
   "metadata": {},
   "outputs": [
    {
     "ename": "NameError",
     "evalue": "name 'pd' is not defined",
     "output_type": "error",
     "traceback": [
      "\u001b[1;31m---------------------------------------------------------------------------\u001b[0m",
      "\u001b[1;31mNameError\u001b[0m                                 Traceback (most recent call last)",
      "Cell \u001b[1;32mIn[1], line 1\u001b[0m\n\u001b[1;32m----> 1\u001b[0m df \u001b[38;5;241m=\u001b[39m pd\u001b[38;5;241m.\u001b[39mread_csv(\u001b[38;5;124m'\u001b[39m\u001b[38;5;124mUpdated_data.csv\u001b[39m\u001b[38;5;124m'\u001b[39m)\n\u001b[0;32m      2\u001b[0m sentiment_counts \u001b[38;5;241m=\u001b[39m df[\u001b[38;5;124m'\u001b[39m\u001b[38;5;124mSentiment\u001b[39m\u001b[38;5;124m'\u001b[39m]\u001b[38;5;241m.\u001b[39mvalue_counts()\n\u001b[0;32m      3\u001b[0m \u001b[38;5;28mprint\u001b[39m(sentiment_counts)\n",
      "\u001b[1;31mNameError\u001b[0m: name 'pd' is not defined"
     ]
    }
   ],
   "source": [
    "df = pd.read_csv('Updated_data.csv')\n",
    "sentiment_counts = df['Sentiment'].value_counts()\n",
    "print(sentiment_counts)"
   ]
  },
  {
   "cell_type": "code",
   "execution_count": 2,
   "id": "14d8b072",
   "metadata": {},
   "outputs": [],
   "source": [
    "import pandas as pd"
   ]
  },
  {
   "cell_type": "code",
   "execution_count": 3,
   "id": "9b376ce9",
   "metadata": {},
   "outputs": [
    {
     "name": "stdout",
     "output_type": "stream",
     "text": [
      "Sentiment\n",
      "positive                 2327\n",
      "competition sentiment     416\n",
      "negative                  390\n",
      "future expectation        177\n",
      "Name: count, dtype: int64\n"
     ]
    }
   ],
   "source": [
    "df = pd.read_csv('Updated_data.csv')\n",
    "sentiment_counts = df['Sentiment'].value_counts()\n",
    "print(sentiment_counts)"
   ]
  },
  {
   "cell_type": "code",
   "execution_count": 4,
   "id": "dea0e461",
   "metadata": {},
   "outputs": [
    {
     "name": "stdout",
     "output_type": "stream",
     "text": [
      "CSV file with Category column written successfully.\n"
     ]
    }
   ],
   "source": [
    "import pandas as pd\n",
    "\n",
    "# Load your existing dataset from CSV or any other source\n",
    "# Replace 'reviews.csv' with your actual dataset file path\n",
    "df = pd.read_csv('Updated_data.csv', encoding='utf-8')\n",
    "\n",
    "# Function to categorize based on product title\n",
    "def categorize_product(product_title):\n",
    "    product_title_lower = product_title.lower()\n",
    "    if 'i3' in product_title_lower:\n",
    "        return 'i3'\n",
    "    elif 'i5' in product_title_lower:\n",
    "        return 'i5'\n",
    "    elif 'i7' in product_title_lower:\n",
    "        return 'i7'\n",
    "    elif 'i9' in product_title_lower:\n",
    "        return 'i9'\n",
    "    else:\n",
    "        return 'Other'\n",
    "\n",
    "# Apply categorization function to create Category column\n",
    "df['Category'] = df['ProductTitle'].apply(categorize_product)\n",
    "\n",
    "# Save updated dataset with Category column to a new CSV file\n",
    "df.to_csv('reviews_with_category.csv', index=False, encoding='utf-8')\n",
    "\n",
    "print(\"CSV file with Category column written successfully.\")\n"
   ]
  },
  {
   "cell_type": "code",
   "execution_count": null,
   "id": "a60fe433",
   "metadata": {},
   "outputs": [],
   "source": []
  }
 ],
 "metadata": {
  "kernelspec": {
   "display_name": "Python 3 (ipykernel)",
   "language": "python",
   "name": "python3"
  },
  "language_info": {
   "codemirror_mode": {
    "name": "ipython",
    "version": 3
   },
   "file_extension": ".py",
   "mimetype": "text/x-python",
   "name": "python",
   "nbconvert_exporter": "python",
   "pygments_lexer": "ipython3",
   "version": "3.11.5"
  }
 },
 "nbformat": 4,
 "nbformat_minor": 5
}
