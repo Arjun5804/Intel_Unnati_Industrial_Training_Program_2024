{
 "cells": [
  {
   "cell_type": "code",
   "execution_count": null,
   "metadata": {},
   "outputs": [
    {
     "name": "stderr",
     "output_type": "stream",
     "text": [
      " 97%|█████████████████████████████████████████████████████████████████████████████▍  | 30/31 [1:24:09<00:37, 37.84s/it]"
     ]
    },
    {
     "name": "stdout",
     "output_type": "stream",
     "text": [
      "[LightGBM] [Info] Auto-choosing row-wise multi-threading, the overhead of testing was 0.045867 seconds.\n",
      "You can set `force_row_wise=true` to remove the overhead.\n",
      "And if memory is not enough, you can set `force_col_wise=true`.\n",
      "[LightGBM] [Info] Total Bins 94869\n",
      "[LightGBM] [Info] Number of data points in the train set: 7472, number of used features: 2323\n",
      "[LightGBM] [Info] Start training from score -1.386294\n",
      "[LightGBM] [Info] Start training from score -1.386294\n",
      "[LightGBM] [Info] Start training from score -1.386294\n",
      "[LightGBM] [Info] Start training from score -1.386294\n"
     ]
    },
    {
     "name": "stderr",
     "output_type": "stream",
     "text": [
      "100%|███████████████████████████████████████████████████████████████████████████████| 31/31 [1:24:21<00:00, 163.27s/it]"
     ]
    },
    {
     "name": "stdout",
     "output_type": "stream",
     "text": [
      "                               Accuracy  Balanced Accuracy ROC AUC  F1 Score  \\\n",
      "Model                                                                          \n",
      "LGBMClassifier                     0.68               0.42    None      0.66   \n",
      "NearestCentroid                    0.64               0.41    None      0.63   \n",
      "XGBClassifier                      0.67               0.40    None      0.65   \n",
      "ExtraTreesClassifier               0.68               0.40    None      0.65   \n",
      "RandomForestClassifier             0.68               0.39    None      0.64   \n",
      "LogisticRegression                 0.60               0.38    None      0.60   \n",
      "LinearSVC                          0.57               0.38    None      0.59   \n",
      "SGDClassifier                      0.65               0.38    None      0.63   \n",
      "CalibratedClassifierCV             0.60               0.38    None      0.60   \n",
      "PassiveAggressiveClassifier        0.58               0.38    None      0.59   \n",
      "AdaBoostClassifier                 0.55               0.37    None      0.57   \n",
      "RidgeClassifierCV                  0.51               0.36    None      0.54   \n",
      "BaggingClassifier                  0.56               0.36    None      0.57   \n",
      "RidgeClassifier                    0.48               0.35    None      0.52   \n",
      "LinearDiscriminantAnalysis         0.44               0.35    None      0.48   \n",
      "Perceptron                         0.56               0.33    None      0.56   \n",
      "DecisionTreeClassifier             0.54               0.33    None      0.55   \n",
      "BernoulliNB                        0.62               0.32    None      0.59   \n",
      "KNeighborsClassifier               0.29               0.32    None      0.31   \n",
      "ExtraTreeClassifier                0.49               0.32    None      0.52   \n",
      "NuSVC                              0.68               0.31    None      0.61   \n",
      "SVC                                0.68               0.31    None      0.61   \n",
      "QuadraticDiscriminantAnalysis      0.19               0.28    None      0.24   \n",
      "LabelSpreading                     0.19               0.28    None      0.16   \n",
      "LabelPropagation                   0.19               0.28    None      0.16   \n",
      "GaussianNB                         0.38               0.27    None      0.42   \n",
      "DummyClassifier                    0.13               0.25    None      0.03   \n",
      "\n",
      "                               Time Taken  \n",
      "Model                                      \n",
      "LGBMClassifier                      11.53  \n",
      "NearestCentroid                      2.11  \n",
      "XGBClassifier                       37.01  \n",
      "ExtraTreesClassifier                57.54  \n",
      "RandomForestClassifier              21.02  \n",
      "LogisticRegression                   5.91  \n",
      "LinearSVC                          840.00  \n",
      "SGDClassifier                        7.86  \n",
      "CalibratedClassifierCV            3369.32  \n",
      "PassiveAggressiveClassifier         10.33  \n",
      "AdaBoostClassifier                  58.19  \n",
      "RidgeClassifierCV                   71.58  \n",
      "BaggingClassifier                   47.00  \n",
      "RidgeClassifier                      5.45  \n",
      "LinearDiscriminantAnalysis          73.89  \n",
      "Perceptron                           4.52  \n",
      "DecisionTreeClassifier              12.19  \n",
      "BernoulliNB                          2.35  \n",
      "KNeighborsClassifier                 2.28  \n",
      "ExtraTreeClassifier                  2.79  \n",
      "NuSVC                              209.92  \n",
      "SVC                                149.55  \n",
      "QuadraticDiscriminantAnalysis       32.86  \n",
      "LabelSpreading                       9.06  \n",
      "LabelPropagation                     8.49  \n",
      "GaussianNB                           2.42  \n",
      "DummyClassifier                      1.86  \n"
     ]
    },
    {
     "name": "stderr",
     "output_type": "stream",
     "text": [
      "\n"
     ]
    }
   ],
   "source": [
    "from lazypredict.Supervised import LazyClassifier\n",
    "from sklearn.model_selection import train_test_split\n",
    "from sklearn.feature_extraction.text import TfidfVectorizer\n",
    "from sklearn.utils import shuffle\n",
    "from imblearn.over_sampling import SMOTE\n",
    "import pandas as pd\n",
    "import numpy as np\n",
    "\n",
    "# Assuming df is your DataFrame with 'ReviewContent'(already cleaned and text preprocessing done) and 'Sentiment_encoded' columns\n",
    "\n",
    "# Shuffle the dataset\n",
    "df = shuffle(df, random_state=42)\n",
    "\n",
    "# Prepare data for training\n",
    "vectorizer = TfidfVectorizer(max_features=5000)\n",
    "X = vectorizer.fit_transform(df['ReviewContent']).toarray()  # Convert to dense array\n",
    "y = df['Sentiment_encoded']\n",
    "\n",
    "# Split data into training and test sets\n",
    "X_train, X_test, y_train, y_test = train_test_split(X, y, test_size=0.2, random_state=42)\n",
    "\n",
    "# Apply SMOTE to the training data\n",
    "smote = SMOTE(random_state=42)\n",
    "X_train_smote, y_train_smote = smote.fit_resample(X_train, y_train)\n",
    "\n",
    "# Convert back to DataFrame for LazyPredict\n",
    "X_train_df = pd.DataFrame(X_train_smote, columns=vectorizer.get_feature_names_out())\n",
    "X_test_df = pd.DataFrame(X_test, columns=vectorizer.get_feature_names_out())\n",
    "\n",
    "# Initialize LazyClassifier\n",
    "clf = LazyClassifier(predictions=True)\n",
    "\n",
    "# Fit and evaluate models\n",
    "models_summary, predictions = clf.fit(X_train_df, X_test_df, y_train_smote, y_test)\n",
    "\n",
    "print(models_summary)\n"
   ]
  },
  {
   "cell_type": "code",
   "execution_count": null,
   "metadata": {},
   "outputs": [],
   "source": [
    "\n",
    "# Initialize LazyClassifier\n",
    "clf = LazyClassifier(predictions=True)\n",
    "\n",
    "# Fit and evaluate models\n",
    "models_summary, predictions = clf.fit(X_train_df, X_test_df, y_train_smote, y_test)\n",
    "\n",
    "print(models_summary)\n"
   ]
  }
 ],
 "metadata": {
  "language_info": {
   "name": "python"
  }
 },
 "nbformat": 4,
 "nbformat_minor": 2
}
