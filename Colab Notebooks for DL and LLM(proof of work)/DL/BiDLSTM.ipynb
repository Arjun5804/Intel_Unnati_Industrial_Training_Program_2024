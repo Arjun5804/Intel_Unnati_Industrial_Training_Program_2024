{
  "nbformat": 4,
  "nbformat_minor": 0,
  "metadata": {
    "colab": {
      "provenance": []
    },
    "kernelspec": {
      "name": "python3",
      "display_name": "Python 3"
    },
    "language_info": {
      "name": "python"
    }
  },
  "cells": [
    {
      "cell_type": "code",
      "source": [
        "import pandas as pd\n",
        "import numpy as np\n",
        "import re\n",
        "from sklearn.preprocessing import LabelEncoder\n",
        "from tensorflow.keras.preprocessing.text import Tokenizer\n",
        "from tensorflow.keras.preprocessing.sequence import pad_sequences\n",
        "from tensorflow.keras.models import Sequential\n",
        "from tensorflow.keras.layers import Embedding, LSTM, Dense, Bidirectional, Dropout\n",
        "import pickle\n",
        "\n",
        "# Load dataset\n",
        "data = pd.read_csv('dataset.csv')\n",
        "\n",
        "# Data cleaning function\n",
        "def clean_text(text):\n",
        "    text = re.sub(r'[^a-zA-Z\\s]', '', text)\n",
        "    text = text.lower().strip()\n",
        "    return text\n",
        "\n",
        "# Apply cleaning\n",
        "data['ReviewContent'] = data['ReviewContent'].apply(clean_text)\n",
        "\n",
        "# Tokenization and padding\n",
        "tokenizer = Tokenizer(num_words=5000)\n",
        "tokenizer.fit_on_texts(data['ReviewContent'])\n",
        "sequences = tokenizer.texts_to_sequences(data['ReviewContent'])\n",
        "padded_sequences = pad_sequences(sequences, maxlen=200)\n",
        "\n",
        "# Encode labels\n",
        "label_encoder = LabelEncoder()\n",
        "data['Sentiment'] = label_encoder.fit_transform(data['Sentiment'])\n",
        "\n",
        "# Train-test split\n",
        "from sklearn.model_selection import train_test_split\n",
        "X_train, X_test, y_train, y_test = train_test_split(padded_sequences, data['Sentiment'], test_size=0.2, random_state=42)\n",
        "\n",
        "# Model building\n",
        "model = Sequential()\n",
        "model.add(Embedding(input_dim=5000, output_dim=128, input_length=200))\n",
        "model.add(Bidirectional(LSTM(64, return_sequences=True)))\n",
        "model.add(Dropout(0.5))\n",
        "model.add(Bidirectional(LSTM(64)))\n",
        "model.add(Dense(64, activation='relu'))\n",
        "model.add(Dense(4, activation='softmax'))\n",
        "\n",
        "model.compile(loss='sparse_categorical_crossentropy', optimizer='adam', metrics=['accuracy'])\n",
        "\n",
        "# Model training\n",
        "model.fit(X_train, y_train, epochs=10, batch_size=32, validation_split=0.2)\n",
        "\n",
        "# Save the entire model\n",
        "model.save('bilstm_model.h5')\n",
        "\n",
        "# Save the tokenizer\n",
        "with open('tokenizer.pkl', 'wb') as handle:\n",
        "    pickle.dump(tokenizer, handle, protocol=pickle.HIGHEST_PROTOCOL)\n",
        "\n",
        "# Save the label encoder\n",
        "with open('label_encoder.pkl', 'wb') as handle:\n",
        "    pickle.dump(label_encoder, handle, protocol=pickle.HIGHEST_PROTOCOL)\n"
      ],
      "metadata": {
        "colab": {
          "base_uri": "https://localhost:8080/"
        },
        "id": "WuIFZFmarHJ8",
        "outputId": "fe7ffc48-e8c5-4723-f0fe-5e6de81ea65f"
      },
      "execution_count": null,
      "outputs": [
        {
          "output_type": "stream",
          "name": "stdout",
          "text": [
            "Epoch 1/10\n",
            "67/67 [==============================] - 47s 614ms/step - loss: 0.9408 - accuracy: 0.7016 - val_loss: 0.9371 - val_accuracy: 0.6906\n",
            "Epoch 2/10\n",
            "67/67 [==============================] - 44s 666ms/step - loss: 0.8029 - accuracy: 0.7200 - val_loss: 0.8989 - val_accuracy: 0.7019\n",
            "Epoch 3/10\n",
            "67/67 [==============================] - 39s 589ms/step - loss: 0.6389 - accuracy: 0.7753 - val_loss: 1.0362 - val_accuracy: 0.6906\n",
            "Epoch 4/10\n",
            "67/67 [==============================] - 38s 568ms/step - loss: 0.5172 - accuracy: 0.8215 - val_loss: 1.2266 - val_accuracy: 0.6811\n",
            "Epoch 5/10\n",
            "67/67 [==============================] - 40s 594ms/step - loss: 0.4518 - accuracy: 0.8470 - val_loss: 1.2237 - val_accuracy: 0.6491\n",
            "Epoch 6/10\n",
            "67/67 [==============================] - 39s 589ms/step - loss: 0.3551 - accuracy: 0.8791 - val_loss: 1.3168 - val_accuracy: 0.6321\n",
            "Epoch 7/10\n",
            "67/67 [==============================] - 39s 578ms/step - loss: 0.2848 - accuracy: 0.9084 - val_loss: 1.4930 - val_accuracy: 0.6434\n",
            "Epoch 8/10\n",
            "67/67 [==============================] - 39s 583ms/step - loss: 0.2354 - accuracy: 0.9235 - val_loss: 1.6576 - val_accuracy: 0.5906\n",
            "Epoch 9/10\n",
            "67/67 [==============================] - 40s 600ms/step - loss: 0.2039 - accuracy: 0.9429 - val_loss: 1.6241 - val_accuracy: 0.6585\n",
            "Epoch 10/10\n",
            "67/67 [==============================] - 41s 607ms/step - loss: 0.1456 - accuracy: 0.9622 - val_loss: 1.8853 - val_accuracy: 0.6038\n"
          ]
        },
        {
          "output_type": "stream",
          "name": "stderr",
          "text": [
            "/usr/local/lib/python3.10/dist-packages/keras/src/engine/training.py:3103: UserWarning: You are saving your model as an HDF5 file via `model.save()`. This file format is considered legacy. We recommend using instead the native Keras format, e.g. `model.save('my_model.keras')`.\n",
            "  saving_api.save_model(\n"
          ]
        }
      ]
    },
    {
      "cell_type": "code",
      "source": [
        "import numpy as np\n",
        "import re\n",
        "from tensorflow.keras.preprocessing.sequence import pad_sequences\n",
        "from tensorflow.keras.models import load_model\n",
        "import pickle\n",
        "\n",
        "def clean_text(text):\n",
        "    text = re.sub(r'[^a-zA-Z\\s]', '', text)  # Remove special characters and numbers\n",
        "    text = text.lower().strip()  # Convert to lower case and strip whitespaces\n",
        "    return text\n",
        "\n",
        "model = load_model('bilstm_model.h5')\n",
        "\n",
        "with open('tokenizer.pkl', 'rb') as handle:\n",
        "    tokenizer = pickle.load(handle)\n",
        "\n",
        "\n",
        "with open('label_encoder.pkl', 'rb') as handle:\n",
        "    label_encoder = pickle.load(handle)\n",
        "\n",
        "def preprocess_input(text, tokenizer, max_length=200):\n",
        "    text = clean_text(text)\n",
        "    sequence = tokenizer.texts_to_sequences([text])\n",
        "    padded_sequence = pad_sequences(sequence, maxlen=max_length)\n",
        "    return padded_sequence\n",
        "\n",
        "input_text = \"said when I ordered that it would arrive on January 5th, then the next day I check and see that it will arrive on January 9th\"\n",
        "\n",
        "preprocessed_input = preprocess_input(input_text, tokenizer)\n",
        "\n",
        "prediction = model.predict(preprocessed_input)\n",
        "predicted_label = np.argmax(prediction, axis=1)\n",
        "predicted_sentiment = label_encoder.inverse_transform(predicted_label)\n",
        "\n",
        "print(f'Predicted Sentiment: {predicted_sentiment[0]}')\n"
      ],
      "metadata": {
        "colab": {
          "base_uri": "https://localhost:8080/"
        },
        "id": "C6b1_6qHtG_c",
        "outputId": "ff1b932c-a4ac-4fb7-b90f-04571afa3a75"
      },
      "execution_count": null,
      "outputs": [
        {
          "output_type": "stream",
          "name": "stdout",
          "text": [
            "1/1 [==============================] - 56s 56s/step\n",
            "Predicted Sentiment: future expectation\n"
          ]
        }
      ]
    },
    {
      "cell_type": "code",
      "source": [],
      "metadata": {
        "id": "yPfy5SkbtIGm"
      },
      "execution_count": null,
      "outputs": []
    }
  ]
}