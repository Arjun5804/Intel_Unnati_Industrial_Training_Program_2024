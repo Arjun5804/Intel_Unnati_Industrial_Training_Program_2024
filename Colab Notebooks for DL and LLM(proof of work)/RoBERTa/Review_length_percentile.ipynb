{
 "cells": [
  {
   "cell_type": "code",
   "execution_count": null,
   "id": "bed407c9",
   "metadata": {},
   "outputs": [],
   "source": [
    "from google.colab import files\n",
    "\n",
    "# Upload a file from your local system\n",
    "uploaded = files.upload()"
   ]
  },
  {
   "cell_type": "code",
   "execution_count": 15,
   "id": "7875999a",
   "metadata": {},
   "outputs": [],
   "source": [
    "import pandas as pd\n",
    "from sklearn.model_selection import train_test_split\n",
    "from sklearn.preprocessing import LabelEncoder\n",
    "\n",
    "# Load your dataset\n",
    "df = pd.read_csv('reviews_dataset.csv')\n",
    "\n",
    "#encoding sentiment\n",
    "label_encoder = LabelEncoder()\n",
    "df['Sentiment_encoded'] = label_encoder.fit_transform(df['Sentiment'])\n",
    "\n",
    "# Define features and target variable\n",
    "X = df['ReviewContent']\n",
    "y = df['Sentiment_encoded']\n",
    "\n",
    "# Stratified split into training and testing sets\n",
    "X_train, X_test, y_train, y_test = train_test_split(X, y, test_size=0.3, random_state=42, stratify=y)\n"
   ]
  },
  {
   "cell_type": "code",
   "execution_count": 16,
   "id": "09e0dc53",
   "metadata": {},
   "outputs": [
    {
     "name": "stdout",
     "output_type": "stream",
     "text": [
      "Review length percentiles:\n",
      "[ 34.    78.   157.   239.   497.65]\n"
     ]
    }
   ],
   "source": [
    "from transformers import RobertaTokenizer\n",
    "\n",
    "# Load the RoBERTa tokenizer\n",
    "tokenizer = RobertaTokenizer.from_pretrained('roberta-base')\n",
    "\n",
    "review_lengths = [len(tokenizer.tokenize(review)) for review in X]\n",
    "\n",
    "# Determine a suitable max length\n",
    "import numpy as np\n",
    "print(\"Review length percentiles:\")\n",
    "print(np.percentile(review_lengths, [50, 75, 90, 95, 99]))\n",
    "\n"
   ]
  }
 ],
 "metadata": {
  "kernelspec": {
   "display_name": "Python 3 (ipykernel)",
   "language": "python",
   "name": "python3"
  },
  "language_info": {
   "codemirror_mode": {
    "name": "ipython",
    "version": 3
   },
   "file_extension": ".py",
   "mimetype": "text/x-python",
   "name": "python",
   "nbconvert_exporter": "python",
   "pygments_lexer": "ipython3",
   "version": "3.11.5"
  }
 },
 "nbformat": 4,
 "nbformat_minor": 5
}
